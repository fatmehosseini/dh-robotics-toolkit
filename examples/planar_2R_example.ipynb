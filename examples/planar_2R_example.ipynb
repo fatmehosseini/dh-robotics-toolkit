{
 "cells": [
  {
   "cell_type": "markdown",
   "id": "2e3abb4d",
   "metadata": {},
   "source": [
    "# Planar 2R Robot Example\n",
    "\n",
    "This example demonstrates how to define a simple 2R planar robot using Denavit-Hartenberg parameters\n",
    "and compute its symbolic forward kinematics using the `symbolic_robotics` package.\n"
   ]
  },
  {
   "cell_type": "code",
   "execution_count": 5,
   "id": "709be6d4",
   "metadata": {},
   "outputs": [],
   "source": [
    "import sys\n",
    "sys.path.append(\"../src\")  \n",
    "from sympy import symbols, Function, pi\n",
    "from base_robot import RobotModel\n",
    "from dh_parameters import DHParams\n",
    "from kinematics import compute_forward_kinematics, get_end_effector_pose\n",
    "\n",
    "t = symbols('t')\n"
   ]
  },
  {
   "cell_type": "code",
   "execution_count": 6,
   "id": "ea1c73f4",
   "metadata": {},
   "outputs": [],
   "source": [
    "# Define time-dependent joint variables\n",
    "theta1 = Function('theta1')(t)\n",
    "theta2 = Function('theta2')(t)\n",
    "\n",
    "# Link lengths\n",
    "a1 = 1\n",
    "a2 = 1\n",
    "\n",
    "# Create DH parameter objects\n",
    "dh1 = DHParams(a=a1, alpha=0, d=0, theta=theta1)\n",
    "dh2 = DHParams(a=a2, alpha=0, d=0, theta=theta2)\n",
    "\n",
    "dh_params = [dh1, dh2]\n"
   ]
  },
  {
   "cell_type": "code",
   "execution_count": 7,
   "id": "8566e525",
   "metadata": {},
   "outputs": [
    {
     "name": "stdout",
     "output_type": "stream",
     "text": [
      "Robot with 2 joints.\n",
      "  Joint 1: a=1, alpha=0, d=0, theta=theta1(t)\n",
      "  Joint 2: a=1, alpha=0, d=0, theta=theta2(t)\n"
     ]
    }
   ],
   "source": [
    "# Initialize RobotModel\n",
    "robot = RobotModel(\n",
    "    n_joints=2,\n",
    "    time_var=t,\n",
    "    dh_params=dh_params\n",
    ")\n",
    "\n",
    "robot.describe()\n"
   ]
  },
  {
   "cell_type": "code",
   "execution_count": 9,
   "id": "b6992198",
   "metadata": {},
   "outputs": [
    {
     "data": {
      "text/latex": [
       "$\\displaystyle \\left[\\begin{matrix}- \\sin{\\left(\\theta_{1}{\\left(t \\right)} \\right)} \\sin{\\left(\\theta_{2}{\\left(t \\right)} \\right)} + \\cos{\\left(\\theta_{1}{\\left(t \\right)} \\right)} \\cos{\\left(\\theta_{2}{\\left(t \\right)} \\right)} & - \\sin{\\left(\\theta_{1}{\\left(t \\right)} \\right)} \\cos{\\left(\\theta_{2}{\\left(t \\right)} \\right)} - \\sin{\\left(\\theta_{2}{\\left(t \\right)} \\right)} \\cos{\\left(\\theta_{1}{\\left(t \\right)} \\right)} & 0 & - \\sin{\\left(\\theta_{1}{\\left(t \\right)} \\right)} \\sin{\\left(\\theta_{2}{\\left(t \\right)} \\right)} + \\cos{\\left(\\theta_{1}{\\left(t \\right)} \\right)} \\cos{\\left(\\theta_{2}{\\left(t \\right)} \\right)} + \\cos{\\left(\\theta_{1}{\\left(t \\right)} \\right)}\\\\\\sin{\\left(\\theta_{1}{\\left(t \\right)} \\right)} \\cos{\\left(\\theta_{2}{\\left(t \\right)} \\right)} + \\sin{\\left(\\theta_{2}{\\left(t \\right)} \\right)} \\cos{\\left(\\theta_{1}{\\left(t \\right)} \\right)} & - \\sin{\\left(\\theta_{1}{\\left(t \\right)} \\right)} \\sin{\\left(\\theta_{2}{\\left(t \\right)} \\right)} + \\cos{\\left(\\theta_{1}{\\left(t \\right)} \\right)} \\cos{\\left(\\theta_{2}{\\left(t \\right)} \\right)} & 0 & \\sin{\\left(\\theta_{1}{\\left(t \\right)} \\right)} \\cos{\\left(\\theta_{2}{\\left(t \\right)} \\right)} + \\sin{\\left(\\theta_{1}{\\left(t \\right)} \\right)} + \\sin{\\left(\\theta_{2}{\\left(t \\right)} \\right)} \\cos{\\left(\\theta_{1}{\\left(t \\right)} \\right)}\\\\0 & 0 & 1 & 0\\\\0 & 0 & 0 & 1\\end{matrix}\\right]$"
      ],
      "text/plain": [
       "Matrix([\n",
       "[-sin(theta1(t))*sin(theta2(t)) + cos(theta1(t))*cos(theta2(t)), -sin(theta1(t))*cos(theta2(t)) - sin(theta2(t))*cos(theta1(t)), 0, -sin(theta1(t))*sin(theta2(t)) + cos(theta1(t))*cos(theta2(t)) + cos(theta1(t))],\n",
       "[ sin(theta1(t))*cos(theta2(t)) + sin(theta2(t))*cos(theta1(t)), -sin(theta1(t))*sin(theta2(t)) + cos(theta1(t))*cos(theta2(t)), 0,  sin(theta1(t))*cos(theta2(t)) + sin(theta1(t)) + sin(theta2(t))*cos(theta1(t))],\n",
       "[                                                             0,                                                              0, 1,                                                                               0],\n",
       "[                                                             0,                                                              0, 0,                                                                               1]])"
      ]
     },
     "execution_count": 9,
     "metadata": {},
     "output_type": "execute_result"
    }
   ],
   "source": [
    "# Compute transformation matrices\n",
    "T_all = compute_forward_kinematics(robot)\n",
    "\n",
    "# Show final pose (end-effector transformation)\n",
    "T_end = get_end_effector_pose(robot)\n",
    "T_end\n"
   ]
  },
  {
   "cell_type": "code",
   "execution_count": 10,
   "id": "e17513cf",
   "metadata": {},
   "outputs": [
    {
     "data": {
      "image/png": "[encoded data removed]",
      "text/plain": [
       "<Figure size 600x600 with 1 Axes>"
      ]
     },
     "metadata": {},
     "output_type": "display_data"
    }
   ],
   "source": [
    "import numpy as np\n",
    "import matplotlib.pyplot as plt\n",
    "\n",
    "# Step 1: Define numerical joint values (in radians)\n",
    "theta1_val = np.pi / 4  # 45 degrees\n",
    "theta2_val = np.pi / 3  # 60 degrees\n",
    "\n",
    "# Step 2: Substitute values into the symbolic expressions\n",
    "T1 = T_all[0].subs({theta1: theta1_val})\n",
    "T2 = T_all[1].subs({theta1: theta1_val, theta2: theta2_val})\n",
    "\n",
    "# Step 3: Extract joint positions\n",
    "O0 = np.array([0, 0])\n",
    "O1 = np.array([T1[0, 3], T1[1, 3]]).astype(np.float64)\n",
    "O2 = np.array([T2[0, 3], T2[1, 3]]).astype(np.float64)\n",
    "\n",
    "# Step 4: Plot the robot\n",
    "x_vals = [O0[0], O1[0], O2[0]]\n",
    "y_vals = [O0[1], O1[1], O2[1]]\n",
    "\n",
    "plt.figure(figsize=(6, 6))\n",
    "plt.plot(x_vals, y_vals, marker='o', linewidth=3)\n",
    "plt.xlim(-2.5, 2.5)\n",
    "plt.ylim(-2.5, 2.5)\n",
    "plt.title(\"2R Planar Robot Configuration\")\n",
    "plt.xlabel(\"X\")\n",
    "plt.ylabel(\"Y\")\n",
    "plt.grid(True)\n",
    "plt.gca().set_aspect('equal')\n",
    "plt.show()\n"
   ]
  }
 ],
 "metadata": {
  "kernelspec": {
   "display_name": "Python 3",
   "language": "python",
   "name": "python3"
  },
  "language_info": {
   "codemirror_mode": {
    "name": "ipython",
    "version": 3
   },
   "file_extension": ".py",
   "mimetype": "text/x-python",
   "name": "python",
   "nbconvert_exporter": "python",
   "pygments_lexer": "ipython3",
   "version": "3.10.6"
  }
 },
 "nbformat": 4,
 "nbformat_minor": 5
}
